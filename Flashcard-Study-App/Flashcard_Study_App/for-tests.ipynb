{
 "cells": [
  {
   "metadata": {
    "ExecuteTime": {
     "end_time": "2024-04-21T19:06:47.924364Z",
     "start_time": "2024-04-21T19:06:47.913018Z"
    }
   },
   "cell_type": "code",
   "source": [
    "\n",
    "a = [1, 2, 3, 4]\n",
    "print(a[:min(len(a), len(a)//2)])"
   ],
   "id": "4c71712f404467c0",
   "outputs": [
    {
     "name": "stdout",
     "output_type": "stream",
     "text": [
      "[1, 2]\n"
     ]
    }
   ],
   "execution_count": 35
  },
  {
   "metadata": {
    "ExecuteTime": {
     "end_time": "2024-04-21T19:34:48.411044Z",
     "start_time": "2024-04-21T19:34:48.401604Z"
    }
   },
   "cell_type": "code",
   "source": [
    "import random\n",
    "card_number = random.randint(0, 0)\n",
    "card_number\n"
   ],
   "id": "5038e06d7f2a79a",
   "outputs": [
    {
     "data": {
      "text/plain": [
       "0"
      ]
     },
     "execution_count": 39,
     "metadata": {},
     "output_type": "execute_result"
    }
   ],
   "execution_count": 39
  },
  {
   "metadata": {
    "ExecuteTime": {
     "end_time": "2024-04-21T20:30:17.743838Z",
     "start_time": "2024-04-21T20:30:17.628274Z"
    }
   },
   "cell_type": "code",
   "source": "1 // 2",
   "id": "fbb80df3029732cd",
   "outputs": [
    {
     "data": {
      "text/plain": [
       "0"
      ]
     },
     "execution_count": 40,
     "metadata": {},
     "output_type": "execute_result"
    }
   ],
   "execution_count": 40
  },
  {
   "metadata": {},
   "cell_type": "code",
   "outputs": [],
   "execution_count": null,
   "source": "",
   "id": "222ab8fc623710a1"
  }
 ],
 "metadata": {
  "kernelspec": {
   "display_name": "Python 3",
   "language": "python",
   "name": "python3"
  },
  "language_info": {
   "codemirror_mode": {
    "name": "ipython",
    "version": 2
   },
   "file_extension": ".py",
   "mimetype": "text/x-python",
   "name": "python",
   "nbconvert_exporter": "python",
   "pygments_lexer": "ipython2",
   "version": "2.7.6"
  }
 },
 "nbformat": 4,
 "nbformat_minor": 5
}
