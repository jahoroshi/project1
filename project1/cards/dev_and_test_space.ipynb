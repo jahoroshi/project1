{
 "cells": [
  {
   "cell_type": "code",
   "id": "initial_id",
   "metadata": {
    "collapsed": true,
    "ExecuteTime": {
     "end_time": "2024-05-05T20:09:42.390448Z",
     "start_time": "2024-05-05T20:09:42.383241Z"
    }
   },
   "source": [
    "words = 'автор товар отвар'.split()  # Разбиение введенной строки на слова\n",
    "word_lengths = map(len, map(set, words))  # Получение длин каждого уникального слова\n",
    "# print(list(word_lengths))\n",
    "unique_lengths = set(word_lengths)  # Определение уникальных длин слов\n",
    "print(unique_lengths)\n",
    "is_different_lengths = len(unique_lengths) != 1  # Проверка наличия различных длин слов\n",
    "result_index = int(is_different_lengths)  # Преобразование булевого значения в индекс для выбора символа из строки 'YNEOS'\n",
    "result_char = 'YNEOS'[result_index]  # Выбор символа в зависимости от результата проверки на различные длины слов\n",
    "print(result_char)  "
   ],
   "outputs": [
    {
     "name": "stdout",
     "output_type": "stream",
     "text": [
      "{5}\n",
      "Y\n"
     ]
    }
   ],
   "execution_count": 60
  },
  {
   "metadata": {
    "ExecuteTime": {
     "end_time": "2024-05-05T20:43:40.351280Z",
     "start_time": "2024-05-05T20:43:36.827881Z"
    }
   },
   "cell_type": "code",
   "source": [
    "a, b, c = map(set, input().split())\n",
    "print(('NO', 'YES')[a == b == c])"
   ],
   "id": "ccb8806839bf36a4",
   "outputs": [
    {
     "name": "stdout",
     "output_type": "stream",
     "text": [
      "{'а', 'о', 'т', 'р', 'в'} {'а', 'о', 'т', 'р', 'в'} {'а', 'о', 'т', 'р', 'в'}\n"
     ]
    }
   ],
   "execution_count": 95
  },
  {
   "metadata": {},
   "cell_type": "code",
   "outputs": [],
   "execution_count": null,
   "source": "",
   "id": "decc5879541db16"
  }
 ],
 "metadata": {
  "kernelspec": {
   "display_name": "Python 3",
   "language": "python",
   "name": "python3"
  },
  "language_info": {
   "codemirror_mode": {
    "name": "ipython",
    "version": 2
   },
   "file_extension": ".py",
   "mimetype": "text/x-python",
   "name": "python",
   "nbconvert_exporter": "python",
   "pygments_lexer": "ipython2",
   "version": "2.7.6"
  }
 },
 "nbformat": 4,
 "nbformat_minor": 5
}
