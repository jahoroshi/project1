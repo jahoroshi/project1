{
 "cells": [
  {
   "cell_type": "code",
   "id": "initial_id",
   "metadata": {
    "collapsed": true,
    "ExecuteTime": {
     "end_time": "2024-05-22T09:40:45.378161Z",
     "start_time": "2024-05-22T09:40:45.370008Z"
    }
   },
   "source": [
    "a = 'avs'[:0]\n",
    "print(a)"
   ],
   "outputs": [
    {
     "name": "stdout",
     "output_type": "stream",
     "text": [
      "\n"
     ]
    }
   ],
   "execution_count": 9
  },
  {
   "metadata": {
    "ExecuteTime": {
     "end_time": "2024-05-21T21:23:45.313018Z",
     "start_time": "2024-05-21T21:23:45.306363Z"
    }
   },
   "cell_type": "code",
   "source": [
    "a = 'avxda'\n",
    "print(a[:20])"
   ],
   "id": "24a9bb9a882b517",
   "outputs": [
    {
     "name": "stdout",
     "output_type": "stream",
     "text": [
      "avxda\n"
     ]
    }
   ],
   "execution_count": 2
  },
  {
   "metadata": {},
   "cell_type": "code",
   "outputs": [],
   "execution_count": null,
   "source": "",
   "id": "aed3f2603536f6fa"
  }
 ],
 "metadata": {
  "kernelspec": {
   "display_name": "Python 3",
   "language": "python",
   "name": "python3"
  },
  "language_info": {
   "codemirror_mode": {
    "name": "ipython",
    "version": 2
   },
   "file_extension": ".py",
   "mimetype": "text/x-python",
   "name": "python",
   "nbconvert_exporter": "python",
   "pygments_lexer": "ipython2",
   "version": "2.7.6"
  }
 },
 "nbformat": 4,
 "nbformat_minor": 5
}
